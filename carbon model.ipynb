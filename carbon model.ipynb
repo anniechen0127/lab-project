{
 "cells": [
  {
   "cell_type": "code",
   "execution_count": 81,
   "metadata": {},
   "outputs": [],
   "source": [
    "import numpy as np\n",
    "from scipy.integrate import odeint\n",
    "import matplotlib.pyplot as plt\n",
    "t = np.array(range(1850,2020))\n",
    "y0 = [0,300]\n",
    "def rhs(y, t,kappa,kdeep,gamma_l,gamma_o,c_amp,alpha,beta_l,beta_o,lamb): \n",
    "    emis_t = lambda x:x\n",
    "    F,C = y\n",
    "    dF = 1/kappa*(6.3*np.log(C/300)-lamb*F)-kdeep*F\n",
    "    dvdt = [1/kappa*(6.3*np.log(C/300)-lamb*F)-kdeep*F,emis_t(t)-(gamma_l+gamma_o)*dF*(1+F*c_amp)/(1+alpha*(beta_l))-beta_o*(alpha*C)]\n",
    "    return np.array(dvdt)"
   ]
  },
  {
   "cell_type": "code",
   "execution_count": 82,
   "metadata": {},
   "outputs": [],
   "source": [
    "mat=1.8e20\n",
    "alpha=1e6/mat/12*1e15"
   ]
  },
  {
   "cell_type": "code",
   "execution_count": 86,
   "metadata": {},
   "outputs": [],
   "source": [
    "t = np.array(range(1850,2020))  # the points of evaluation of solution\n",
    "#r = ode(rhs).set_integrator(\"dopri5\")  # choice of method\n",
    "y = odeint(rhs,y0,t,args = (9.3,21,-0.13,0.2,1,alpha,1.9,1.6,0.9))"
   ]
  },
  {
   "cell_type": "code",
   "execution_count": 87,
   "metadata": {},
   "outputs": [
    {
     "data": {
      "text/plain": [
       "[<matplotlib.lines.Line2D at 0x118724f60>]"
      ]
     },
     "execution_count": 87,
     "metadata": {},
     "output_type": "execute_result"
    },
    {
     "data": {
      "image/png": "[encoded data removed]",
      "text/plain": [
       "<Figure size 432x288 with 1 Axes>"
      ]
     },
     "metadata": {
      "needs_background": "light"
     },
     "output_type": "display_data"
    }
   ],
   "source": [
    "plt.plot(t, y[:, 0], 'b', label='theta(t)')"
   ]
  },
  {
   "cell_type": "code",
   "execution_count": null,
   "metadata": {},
   "outputs": [],
   "source": []
  }
 ],
 "metadata": {
  "kernelspec": {
   "display_name": "Python 3",
   "language": "python",
   "name": "python3"
  },
  "language_info": {
   "codemirror_mode": {
    "name": "ipython",
    "version": 3
   },
   "file_extension": ".py",
   "mimetype": "text/x-python",
   "name": "python",
   "nbconvert_exporter": "python",
   "pygments_lexer": "ipython3",
   "version": "3.6.2"
  }
 },
 "nbformat": 4,
 "nbformat_minor": 2
}
