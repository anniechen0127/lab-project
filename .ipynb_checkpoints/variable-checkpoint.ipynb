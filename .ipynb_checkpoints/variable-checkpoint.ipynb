{
 "cells": [
  {
   "cell_type": "code",
   "execution_count": null,
   "metadata": {},
   "outputs": [],
   "source": [
    "mat=1.8e20 #moles in atm\n",
    "alpha=1e6/mat/12*1e15 #conversion factor from Pg to atmospheric carbon concentration\n",
    "lamb=3.8/4.8; #Climate sensitivity(Wm-2K-1)\n",
    "kappa_l=10; #I think in the table this is 9.3*100, Land surface heat capacity Ka-1(Wm-2)-1\n",
    "c_amp=1.1; #carbon feedback amplification factor\n",
    "beta_l=3.5; #Bioshpere CO2 fertilization parameter (Pgppm-1)\n",
    "beta_o=2.4; #Ocean carbon diffusion parameter(Pgppm-1)\n",
    "\n",
    "param.clim.ocn_init=600;\n",
    "gamma_l=-0.13; #Biosphere temperature response(PgK-1)\n",
    "gamma_o=-0.2; #Ocean carbon solubility response(PgK-1)\n",
    "\n",
    "\n",
    "beta_od=.5; #Deep shallow ocean carbon diffusion coefficient(Pgppm-1)\n",
    "docn_init=1.0000e+05;\n",
    "kappa_0=12.6; #Atmosphere ocean diffusion coefficient Ka-1(Wm-2)-1\n",
    "Do=0.21; #I change this from kdeep to Do\n",
    "\n",
    "\n",
    "aco2c = 290  # atmospheric co2 concentration in ppm\n",
    "cina = aco2c/alpha  # carbon in atm ; ppm -> Pg\n",
    "\n",
    "oco2c = 290  # the ocean is in balance with atm\n",
    "cino = 600\n",
    "rho_o=oco2c/cino  # \n",
    "\n",
    "odco2c = 290 # the deep ocean is\n",
    "cinod = 1e6\n",
    "rho_od= odco2c/cinod"
   ]
  }
 ],
 "metadata": {
  "kernelspec": {
   "display_name": "Python 3",
   "language": "python",
   "name": "python3"
  },
  "language_info": {
   "codemirror_mode": {
    "name": "ipython",
    "version": 3
   },
   "file_extension": ".py",
   "mimetype": "text/x-python",
   "name": "python",
   "nbconvert_exporter": "python",
   "pygments_lexer": "ipython3",
   "version": "3.6.2"
  }
 },
 "nbformat": 4,
 "nbformat_minor": 2
}
