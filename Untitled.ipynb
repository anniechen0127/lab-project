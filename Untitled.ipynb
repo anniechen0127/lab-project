{
 "cells": [
  {
   "cell_type": "code",
   "execution_count": 32,
   "metadata": {},
   "outputs": [],
   "source": [
    "import numpy as np\n",
    "from scipy.integrate import odeint\n",
    "import matplotlib.pyplot as plt\n",
    "\n",
    "model_init_year = 2016\n",
    "\n",
    "t = np.array(range(model_init_year,2101))\n",
    "\n",
    "converstionfactor = 1   # just as a place holder\n",
    "\n",
    "\n",
    "def rhs(y, t, CO2emission_baseline,kappa_l,Do,gamma_l,gamma_o,c_amp,rho_a,beta_l,beta_o,lamb,rho_o,rho_od,beta_od,kappa_o): \n",
    "    T_a,C_a,C_o,C_od,T_o, E21 = y\n",
    "\n",
    "    # convert CO2 emission to energy\n",
    "\n",
    "    \n",
    "\n",
    "    \n",
    "    eq1 = 1/kappa_l*(CO2eff*np.log(C_a/cina)-lamb*T_a-Do*(T_a-T_o))\n",
    "    \n",
    "    eq2 = (CO2emission_baseline[int(t)-model_init_year]-(gamma_l+gamma_o)*eq1*(1+T_a*c_amp))/(1+rho_a*(beta_l))-beta_o*(rho_a*C_a-rho_o*C_o)\n",
    "\n",
    "    # coupled eq2 = (CO2emission_actual[int(t)-model_init_year]-(gamma_l+gamma_o)*eq1*(1+T_a*c_amp))/(1+rho_a*(beta_l))-beta_o*(rho_a*C_a-rho_o*C_o)\n",
    "\n",
    "    diffusion_to_ocean = (rho_a*C_a - rho_o*C_o)\n",
    "    diffusion_to_deepocean = (rho_o*C_o - rho_od*C_od)\n",
    "\n",
    "    eq3 = beta_o * diffusion_to_ocean + gamma_o*(1+T_a*c_amp)*eq1 - beta_od*diffusion_to_deepocean\n",
    "    eq4 = beta_od * diffusion_to_deepocean\n",
    "    eq5 = 1/kappa_o*Do*(T_a - T_o)\n",
    "\n",
    "\n",
    "    # this is added on July 10 to include societal feedback.\n",
    "\n",
    "    taoR21=100*np.exp(-1*T_a)\n",
    "    taoP21=taoR21/2\n",
    "    taoDV21=0\n",
    "    taoDf21=25/(1+0.5*(T_a**2))\n",
    "    k21=20*5  # trying to set it to E21 at year 2020 - am I doing it right?\n",
    "    \n",
    "    dE21_dt = (1-E21/k21)*(E21/(taoR21+taoP21+taoDV21+taoDf21))\n",
    "\n",
    "\n",
    "\n",
    "    #    alternative case in which tao is the max of the 4 time constant\n",
    "    #    dE21_dt = (1-E21/k21)*(E21/(max(taoR21+taoP21+taoDV21+taoDf21)))\n",
    "\n",
    "\n",
    "    return np.array([eq1,eq2,eq3,eq4,eq5,dE21_dt])\n",
    "\n",
    "\n",
    "\n",
    "\n",
    "\n"
   ]
  },
  {
   "cell_type": "code",
   "execution_count": 33,
   "metadata": {},
   "outputs": [],
   "source": [
    "# In[2]:\n",
    "\n",
    "\n",
    "CO2eff=5.35 #6.3\n",
    "\n",
    "mat=1.8e20 #moles in atm\n",
    "rho_a=1e6/mat/12*1e15 #conversion factor from Pg to ppm\n",
    "\n",
    "lamb=  1/ 0.8 # 3.8/4   # 1/0.8  #Climate feedback parameters(Wm-2K-1)\n",
    "\n",
    "\n",
    "deltaT = 1  * 3.156* (1e7)  # seconds in a year\n",
    "H = 997 * 4187 * 300  # heat capacity of global ocean\n",
    "\n",
    "# note that #H/deltaT-kappa_l = ~40\n",
    "kappa_l=30  # Land surface heat capacity (Wm-2)/(K/yr), note that the unit is convert to yr, not sec\n",
    "kappa_o= 30 #H/deltaT-kappa_l # Ocean surface heat capacity \n",
    "\n",
    "Do=0.4 # heat diffusion coefficient from atm to ocean\n",
    "# I change this from kdeep to Do, the table is wrong\n",
    "\n",
    "\n",
    "\n",
    "c_amp=1.1 #carbon feedback amplification factor\n",
    "\n",
    "beta_l=0.25 #Biosphere carbon fertilization parameter (Pgppm-1)\n",
    "beta_o=0.1 #Ocean carbon diffusion parameter(Pgppm-1)\n",
    "beta_od=0.25 #Deep shallow ocean carbon diffusion coefficient(Pgppm-1)\n",
    "\n",
    "\n",
    "gamma_l=-0.13 #Biosphere temperature response(PgK-1)\n",
    "gamma_o=-0.2 #Ocean carbon solubility response(PgK-1)\n",
    "\n",
    "\n",
    "\n",
    "aco2c = 400  # atmospheric co2 concentration in ppm\n",
    "cina = aco2c/rho_a  # carbon in atm ; ppm -> Pg\n",
    "\n",
    "oco2c = aco2c  # the ocean is in balance with atm\n",
    "cino = 100\n",
    "rho_o=oco2c/cino  #  rho is to convert Pg to ppm\n",
    "\n",
    "odco2c = aco2c # the deep ocean is in balance with atm \n",
    "cinod = 1e3\n",
    "rho_od= odco2c/cinod"
   ]
  },
  {
   "cell_type": "code",
   "execution_count": 21,
   "metadata": {},
   "outputs": [],
   "source": [
    "# In[3]:\n",
    "\n",
    "\n",
    "y0 = [1,cina,cino,cinod,0.5, 1 ]# the initial values of T_a, C_a, C_o, C_od, T_o, E21 at year 2016\n",
    " # I am setting E21 at 5 GtCO2, a small fraction of the total.\n",
    "\n",
    "\n",
    "# In[4]:\n",
    "\n",
    "\n",
    "import scipy.io\n",
    "mat = scipy.io.loadmat('CO2emissionRCPBAU85_SLR2012_Paris2015.mat')\n",
    "CO2emission_baseline= mat['ECO2new'][0]   \n",
    "# This is the baseline CO2 emission from RCP, in which little renewable is used.\n",
    "\n",
    "\n",
    "\n",
    "\n",
    "\n",
    "\n"
   ]
  },
  {
   "cell_type": "code",
   "execution_count": 22,
   "metadata": {},
   "outputs": [],
   "source": [
    "y = odeint(rhs,y0,t,args = (CO2emission_baseline,kappa_l,Do,gamma_l,gamma_o,c_amp,rho_a,beta_l,beta_o,lamb,rho_o,rho_od,beta_od,kappa_o))\n",
    "\n"
   ]
  },
  {
   "cell_type": "code",
   "execution_count": 35,
   "metadata": {},
   "outputs": [],
   "source": [
    "Totalenergy = CO2emission_baseline[2016-1850:] * converstionfactor\n",
    "\n",
    "FFenergy = Totalenergy - y[:, 5]\n",
    "\n",
    "    # convert energy into CO2 emission\n",
    "\n",
    "CO2emission_actual = FFenergy / converstionfactor"
   ]
  },
  {
   "cell_type": "code",
   "execution_count": 40,
   "metadata": {},
   "outputs": [
    {
     "data": {
      "text/plain": [
       "<matplotlib.legend.Legend at 0x116a18be0>"
      ]
     },
     "execution_count": 40,
     "metadata": {},
     "output_type": "execute_result"
    },
    {
     "data": {
      "image/png": "[encoded data removed]",
      "text/plain": [
       "<Figure size 432x288 with 1 Axes>"
      ]
     },
     "metadata": {
      "needs_background": "light"
     },
     "output_type": "display_data"
    }
   ],
   "source": [
    "plt.plot(t, CO2emission_baseline[2016-1850:], 'b', label='CO2emission_baseline')\n",
    "plt.plot(t,CO2emission_actual,label = 'CO2emission_actual')\n",
    "plt.xlabel('year')\n",
    "plt.ylabel('Carbon emission in Gt')\n",
    "plt.legend()"
   ]
  },
  {
   "cell_type": "code",
   "execution_count": 42,
   "metadata": {},
   "outputs": [
    {
     "data": {
      "text/plain": [
       "<matplotlib.legend.Legend at 0x116a934e0>"
      ]
     },
     "execution_count": 42,
     "metadata": {},
     "output_type": "execute_result"
    },
    {
     "data": {
      "image/png": "[encoded data removed]",
      "text/plain": [
       "<Figure size 432x288 with 1 Axes>"
      ]
     },
     "metadata": {
      "needs_background": "light"
     },
     "output_type": "display_data"
    }
   ],
   "source": [
    "plt.plot(t, Totalenergy, 'b', label='Totalenergy')\n",
    "plt.plot(t,FFenergy,label = 'FFenergy')\n",
    "plt.xlabel('year')\n",
    "plt.ylabel('Energy')\n",
    "plt.legend()"
   ]
  },
  {
   "cell_type": "code",
   "execution_count": 46,
   "metadata": {},
   "outputs": [
    {
     "data": {
      "text/plain": [
       "Text(0.5, 0, 'year')"
      ]
     },
     "execution_count": 46,
     "metadata": {},
     "output_type": "execute_result"
    },
    {
     "data": {
      "image/png": "[encoded data removed]",
      "text/plain": [
       "<Figure size 432x288 with 1 Axes>"
      ]
     },
     "metadata": {
      "needs_background": "light"
     },
     "output_type": "display_data"
    }
   ],
   "source": [
    "plt.plot(t, y[:,5], 'b', label='E21')\n",
    "plt.legend()\n",
    "plt.xlabel('year')"
   ]
  },
  {
   "cell_type": "code",
   "execution_count": null,
   "metadata": {},
   "outputs": [],
   "source": [
    "# Annie, can you plot the following time series (2016-2100), maybe in two plots (one for CO2, one for energy)\n",
    "\n",
    "CO2emission_baseline\n",
    "\n",
    "CO2emission_actual\n",
    "\n",
    "Totalenergy\n",
    "\n",
    "E21\n",
    "\n",
    "FFenergy\n",
    "\n",
    "\n",
    "\n",
    "\n",
    "# In[5]:\n",
    "\n",
    "\n",
    "y = odeint(rhs,y0,t,args = (emis_t,kappa_l,Do,gamma_l,gamma_o,c_amp,rho_a,beta_l,beta_o,lamb,rho_o,rho_od,beta_od,kappa_o))\n",
    "\n",
    "\n",
    "# In[6]:\n",
    "\n",
    "\n",
    "# plt.plot(t, y[:, 0], 'b', label='theta(t)')\n",
    "# plt.xlabel('time')\n",
    "# plt.ylabel('Temperature of atmosphere')\n",
    "\n",
    "\n",
    "# In[7]:\n",
    "\n",
    "\n",
    "#plt.plot(t, y[:, 1]*rho_a, 'b', label='theta(t)')\n",
    "#plt.xlabel('time')\n",
    "#plt.ylabel('Carbon of atmosphere in ppm')\n",
    "\n",
    "\n",
    "# In[8]:\n",
    "\n",
    "\n",
    "#plt.plot(t, y[:, 2], 'b', label='theta(t)')\n",
    "#plt.xlabel('time')\n",
    "#plt.ylabel('Carbon of ocean in Gt')\n",
    "\n",
    "\n",
    "# In[9]:\n",
    "\n",
    "\n",
    "#plt.plot(t, y[:, 3], 'b', label='theta(t)')\n",
    "#plt.xlabel('time')\n",
    "#plt.ylabel('Carbon of deep ocean in Gt')\n",
    "\n",
    "\n",
    "# In[10]:\n",
    "\n",
    "\n",
    "plt.plot(t, y[:, 4], 'b', label='theta(t)')\n",
    "plt.xlabel('time')\n",
    "plt.ylabel('Temperature of ocean')\n",
    "\n",
    "\n",
    "# In[11]:\n",
    "\n",
    "\n",
    "#Plot previously simulated CO2 concentration\n",
    "mat = scipy.io.loadmat('CO2simulationRCPBAU85_SLR2012_Paris2015.mat')\n",
    "pco2a = mat['pco2a_vec_mit']\n",
    "t1 = np.array(range(1850,2100))\n",
    "plt.plot(t1,pco2a[0],label='previously in PNAS2017')\n",
    "plt.xlabel('year',fontsize=16, fontweight='bold')\n",
    "plt.ylabel('CO2 concentration (ppm)',fontsize=16, fontweight='bold')\n",
    "plt.plot(t, y[:, 1]*rho_a, 'b', label='new')\n",
    "plt.legend()\n",
    "\n",
    "\n",
    "# In[12]:\n",
    "\n",
    "\n",
    "#plot of previously simulated temperature\n",
    "# This is the simple formulation as in PNAS2017\n",
    "\n",
    "f = lambda x: CO2eff*(np.log(pco2a[0][x]/aco2c))\n",
    "T = [0]\n",
    "\n",
    "for i in range(250):  \n",
    "    Result = T[i] + (deltaT / H)*(f(i) - lamb*T[i])\n",
    "    T.append(Result)\n",
    "    \n",
    "plt.plot(range(1850,2101),T,label = 'previously in PNAS2017')\n",
    "plt.xlabel('years',fontsize=16, fontweight='bold')\n",
    "plt.ylabel('Temperature(ºC)',fontsize=16, fontweight='bold')\n",
    "plt.plot(t, y[:, 0], 'b', label='new')\n",
    "plt.legend()\n",
    "\n"
   ]
  }
 ],
 "metadata": {
  "kernelspec": {
   "display_name": "Python 3",
   "language": "python",
   "name": "python3"
  },
  "language_info": {
   "codemirror_mode": {
    "name": "ipython",
    "version": 3
   },
   "file_extension": ".py",
   "mimetype": "text/x-python",
   "name": "python",
   "nbconvert_exporter": "python",
   "pygments_lexer": "ipython3",
   "version": "3.6.2"
  }
 },
 "nbformat": 4,
 "nbformat_minor": 2
}
